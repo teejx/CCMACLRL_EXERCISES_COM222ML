{
  "cells": [
    {
      "cell_type": "markdown",
      "metadata": {
        "id": "view-in-github",
        "colab_type": "text"
      },
      "source": [
        "<a href=\"https://colab.research.google.com/github/innogatchi/CCMACLRL_EXAM_COM222ML/blob/main/Exercise9.ipynb\" target=\"_parent\"><img src=\"https://colab.research.google.com/assets/colab-badge.svg\" alt=\"Open In Colab\"/></a>"
      ]
    },
    {
      "cell_type": "markdown",
      "metadata": {
        "id": "99_2rPCJrNfK"
      },
      "source": [
        "## Exercise 9: Choosing the best performing model on a dataset\n",
        "\n",
        "Instructions:\n",
        "\n",
        "- Use the Dataset File to train your model\n",
        "- Use the Test File to generate your results\n",
        "- Use the Sample Submission file to generate the same format\n",
        "- Use all classification models\n",
        "\n",
        "Submit your results to:\n",
        "https://www.kaggle.com/competitions/playground-series-s4e10/overview\n",
        "\n"
      ]
    },
    {
      "cell_type": "code",
      "execution_count": 165,
      "metadata": {
        "id": "R_se3V8gftVL"
      },
      "outputs": [],
      "source": [
        "import pandas as pd\n",
        "import seaborn as sns\n",
        "\n",
        "from matplotlib import pyplot as plt\n",
        "from sklearn.neighbors import KNeighborsClassifier\n",
        "from sklearn.linear_model import LogisticRegression\n",
        "from sklearn.svm import SVC\n",
        "from sklearn.naive_bayes import GaussianNB\n",
        "from sklearn.tree import DecisionTreeClassifier\n",
        "from sklearn.ensemble import RandomForestClassifier\n",
        "from sklearn.model_selection import train_test_split"
      ]
    },
    {
      "cell_type": "markdown",
      "metadata": {
        "id": "eCNNEXIhftVN"
      },
      "source": [
        "## Dataset File"
      ]
    },
    {
      "cell_type": "code",
      "execution_count": 166,
      "metadata": {
        "id": "-Cqj3uEkftVO"
      },
      "outputs": [],
      "source": [
        "dataset_url = 'https://github.com/robitussin/CCMACLRL_EXERCISES/blob/main/datasets/loan_approval/train.csv?raw=true'\n",
        "df = pd.read_csv(dataset_url)"
      ]
    },
    {
      "cell_type": "code",
      "execution_count": 167,
      "metadata": {
        "colab": {
          "base_uri": "https://localhost:8080/"
        },
        "id": "4AE40RnyriFK",
        "outputId": "dbde7320-13ec-42fd-a23c-e8d671dbf326"
      },
      "outputs": [
        {
          "output_type": "stream",
          "name": "stdout",
          "text": [
            "<class 'pandas.core.frame.DataFrame'>\n",
            "RangeIndex: 58645 entries, 0 to 58644\n",
            "Data columns (total 13 columns):\n",
            " #   Column                      Non-Null Count  Dtype  \n",
            "---  ------                      --------------  -----  \n",
            " 0   id                          58645 non-null  int64  \n",
            " 1   person_age                  58645 non-null  int64  \n",
            " 2   person_income               58645 non-null  int64  \n",
            " 3   person_home_ownership       58645 non-null  object \n",
            " 4   person_emp_length           58645 non-null  float64\n",
            " 5   loan_intent                 58645 non-null  object \n",
            " 6   loan_grade                  58645 non-null  object \n",
            " 7   loan_amnt                   58645 non-null  int64  \n",
            " 8   loan_int_rate               58645 non-null  float64\n",
            " 9   loan_percent_income         58645 non-null  float64\n",
            " 10  cb_person_default_on_file   58645 non-null  object \n",
            " 11  cb_person_cred_hist_length  58645 non-null  int64  \n",
            " 12  loan_status                 58645 non-null  int64  \n",
            "dtypes: float64(3), int64(6), object(4)\n",
            "memory usage: 5.8+ MB\n"
          ]
        }
      ],
      "source": [
        "df.info()"
      ]
    },
    {
      "cell_type": "markdown",
      "metadata": {
        "id": "mLFiGySNftVP"
      },
      "source": [
        "## Test File"
      ]
    },
    {
      "cell_type": "code",
      "execution_count": 168,
      "metadata": {
        "id": "7pKmP53fftVP"
      },
      "outputs": [],
      "source": [
        "test_url = 'https://github.com/robitussin/CCMACLRL_EXERCISES/blob/main/datasets/loan_approval/test.csv?raw=true'\n",
        "dt=pd.read_csv(test_url)"
      ]
    },
    {
      "cell_type": "code",
      "execution_count": 169,
      "metadata": {
        "colab": {
          "base_uri": "https://localhost:8080/"
        },
        "id": "2f11HsMzqEvJ",
        "outputId": "8dbf1b67-18eb-4572-f18b-251ff6ba83ae"
      },
      "outputs": [
        {
          "output_type": "stream",
          "name": "stdout",
          "text": [
            "<class 'pandas.core.frame.DataFrame'>\n",
            "RangeIndex: 39098 entries, 0 to 39097\n",
            "Data columns (total 12 columns):\n",
            " #   Column                      Non-Null Count  Dtype  \n",
            "---  ------                      --------------  -----  \n",
            " 0   id                          39098 non-null  int64  \n",
            " 1   person_age                  39098 non-null  int64  \n",
            " 2   person_income               39098 non-null  int64  \n",
            " 3   person_home_ownership       39098 non-null  object \n",
            " 4   person_emp_length           39098 non-null  float64\n",
            " 5   loan_intent                 39098 non-null  object \n",
            " 6   loan_grade                  39098 non-null  object \n",
            " 7   loan_amnt                   39098 non-null  int64  \n",
            " 8   loan_int_rate               39098 non-null  float64\n",
            " 9   loan_percent_income         39098 non-null  float64\n",
            " 10  cb_person_default_on_file   39098 non-null  object \n",
            " 11  cb_person_cred_hist_length  39098 non-null  int64  \n",
            "dtypes: float64(3), int64(5), object(4)\n",
            "memory usage: 3.6+ MB\n"
          ]
        }
      ],
      "source": [
        "dt.info()"
      ]
    },
    {
      "cell_type": "markdown",
      "metadata": {
        "id": "ntGpbsBg8hft"
      },
      "source": [
        "## Sample Submission File"
      ]
    },
    {
      "cell_type": "code",
      "execution_count": 170,
      "metadata": {
        "id": "-5Dwtw_w3U8W"
      },
      "outputs": [],
      "source": [
        "sample_submission_url ='https://github.com/robitussin/CCMACLRL_EXERCISES/blob/main/datasets/loan_approval/sample_submission.csv?raw=true'\n",
        "\n",
        "sf=pd.read_csv(sample_submission_url)"
      ]
    },
    {
      "cell_type": "code",
      "execution_count": 171,
      "metadata": {
        "colab": {
          "base_uri": "https://localhost:8080/"
        },
        "id": "K1_62qZBqLjV",
        "outputId": "dba058ce-5244-47b2-8fbf-befea609f78f"
      },
      "outputs": [
        {
          "output_type": "stream",
          "name": "stdout",
          "text": [
            "<class 'pandas.core.frame.DataFrame'>\n",
            "RangeIndex: 39098 entries, 0 to 39097\n",
            "Data columns (total 2 columns):\n",
            " #   Column       Non-Null Count  Dtype  \n",
            "---  ------       --------------  -----  \n",
            " 0   id           39098 non-null  int64  \n",
            " 1   loan_status  39098 non-null  float64\n",
            "dtypes: float64(1), int64(1)\n",
            "memory usage: 611.0 KB\n"
          ]
        }
      ],
      "source": [
        "sf.info()"
      ]
    },
    {
      "cell_type": "markdown",
      "metadata": {
        "id": "7nNjd6aErISr"
      },
      "source": []
    },
    {
      "cell_type": "markdown",
      "metadata": {
        "id": "19dHs7ZprqHd"
      },
      "source": [
        "## 1. Train a KNN Classifier"
      ]
    },
    {
      "cell_type": "code",
      "source": [
        "grade_mapping = {\n",
        "    'A': 1,\n",
        "    'B': 2,\n",
        "    'C': 3,\n",
        "    'D': 4,\n",
        "    'E': 5,\n",
        "    'F': 6,\n",
        "    'G': 7\n",
        "}\n",
        "default_mapping = {\n",
        "    'N': 0,\n",
        "    'Y': 1\n",
        "}\n",
        "intent_mapping = {\n",
        "    'PERSONAL': 1,\n",
        "    'MEDICAL': 2,\n",
        "    'EDUCATION': 3,\n",
        "    'VENTURE': 4,\n",
        "    'HOMEIMPROVEMENT': 5,\n",
        "    'DEBTCONSOLIDATION': 6\n",
        "}\n",
        "ownership_mapping = {\n",
        "    'RENT': 1,\n",
        "    'MORTGAGE': 2,\n",
        "    'OWN': 3,\n",
        "    'OTHER': 4\n",
        "}\n",
        "\n",
        "df['loan_grade'] = df['loan_grade'].map(grade_mapping)\n",
        "df['person_home_ownership'] = df['person_home_ownership'].map(ownership_mapping)\n",
        "df['cb_person_default_on_file'] = df['cb_person_default_on_file'].map(default_mapping)\n",
        "df['loan_intent'] = df['loan_intent'].map(intent_mapping)"
      ],
      "metadata": {
        "id": "2MtvMOoK8HN_"
      },
      "execution_count": 172,
      "outputs": []
    },
    {
      "cell_type": "code",
      "source": [
        "df['person_home_ownership'].unique()"
      ],
      "metadata": {
        "colab": {
          "base_uri": "https://localhost:8080/"
        },
        "id": "zMNLrmO__w5i",
        "outputId": "3e42d70c-a02a-4a14-a799-e506aa0832bd"
      },
      "execution_count": 173,
      "outputs": [
        {
          "output_type": "execute_result",
          "data": {
            "text/plain": [
              "array([1, 3, 2, 4])"
            ]
          },
          "metadata": {},
          "execution_count": 173
        }
      ]
    },
    {
      "cell_type": "code",
      "execution_count": 174,
      "metadata": {
        "id": "sfo3q7hjru-k"
      },
      "outputs": [],
      "source": [
        "from sklearn.model_selection import train_test_split\n",
        "x = df.drop(\"loan_status\",axis=1)\n",
        "y = df[\"loan_status\"]\n",
        "\n",
        "x_train,x_test,y_train,y_test = train_test_split(x,y,random_state=1,test_size=0.3)"
      ]
    },
    {
      "cell_type": "code",
      "execution_count": 175,
      "metadata": {
        "id": "ioSlLZcZsbCx",
        "colab": {
          "base_uri": "https://localhost:8080/"
        },
        "outputId": "ba58d28d-d156-4991-964d-650b18707040"
      },
      "outputs": [
        {
          "output_type": "stream",
          "name": "stdout",
          "text": [
            "Score is 0.8828009548709788\n"
          ]
        }
      ],
      "source": [
        "score_list = {}\n",
        "from sklearn.neighbors import KNeighborsClassifier\n",
        "KNN = KNeighborsClassifier(n_neighbors=22)\n",
        "\n",
        "KNN.fit(x_train,y_train)\n",
        "knn_score = KNN.score(x_test,y_test)\n",
        "score_list[\"KNN Classifier\"] = knn_score\n",
        "print(f\"Score is {knn_score}\")"
      ]
    },
    {
      "cell_type": "markdown",
      "metadata": {
        "id": "lqPzPhIs0zjf"
      },
      "source": [
        "- Perform cross validation"
      ]
    },
    {
      "cell_type": "code",
      "execution_count": 176,
      "metadata": {
        "id": "Xz-BV38o04PL",
        "colab": {
          "base_uri": "https://localhost:8080/"
        },
        "outputId": "4ddef806-3456-4d70-97df-ce2c70a4e90f"
      },
      "outputs": [
        {
          "output_type": "stream",
          "name": "stdout",
          "text": [
            "Cross-validation scores: [0.88021144 0.87876204 0.8744991  0.87867678 0.86998039]\n",
            "Average cross-validation score: 0.8764259527666468\n"
          ]
        }
      ],
      "source": [
        "from sklearn.model_selection import cross_val_score\n",
        "scores = cross_val_score(KNN, x, y, cv=5)\n",
        "print(\"Cross-validation scores:\", scores)\n",
        "print(\"Average cross-validation score:\", scores.mean())"
      ]
    },
    {
      "cell_type": "markdown",
      "metadata": {
        "id": "9iQFaBrfzNmM"
      },
      "source": [
        "## 2. Train a Logistic Regression Classifier"
      ]
    },
    {
      "cell_type": "code",
      "execution_count": 177,
      "metadata": {
        "id": "LaiPKRnRzN3P",
        "colab": {
          "base_uri": "https://localhost:8080/"
        },
        "outputId": "8a0ab335-71c4-43a8-99f1-73af32c194bd"
      },
      "outputs": [
        {
          "output_type": "stream",
          "name": "stdout",
          "text": [
            "Score is 0.8821757417301352\n"
          ]
        },
        {
          "output_type": "stream",
          "name": "stderr",
          "text": [
            "/usr/local/lib/python3.10/dist-packages/sklearn/linear_model/_logistic.py:469: ConvergenceWarning: lbfgs failed to converge (status=1):\n",
            "STOP: TOTAL NO. of ITERATIONS REACHED LIMIT.\n",
            "\n",
            "Increase the number of iterations (max_iter) or scale the data as shown in:\n",
            "    https://scikit-learn.org/stable/modules/preprocessing.html\n",
            "Please also refer to the documentation for alternative solver options:\n",
            "    https://scikit-learn.org/stable/modules/linear_model.html#logistic-regression\n",
            "  n_iter_i = _check_optimize_result(\n"
          ]
        }
      ],
      "source": [
        "from sklearn.linear_model import LogisticRegression\n",
        "\n",
        "LR = LogisticRegression()\n",
        "LR.fit(x_train,y_train)\n",
        "\n",
        "lr_score = LR.score(x_test,y_test)\n",
        "score_list[\"Logistic Regression\"] = lr_score\n",
        "\n",
        "print(f\"Score is {lr_score}\")"
      ]
    },
    {
      "cell_type": "markdown",
      "metadata": {
        "id": "sj2wlK-4044w"
      },
      "source": [
        "- Perform cross validation"
      ]
    },
    {
      "cell_type": "code",
      "execution_count": 178,
      "metadata": {
        "id": "LaPPbhEb0740",
        "colab": {
          "base_uri": "https://localhost:8080/"
        },
        "outputId": "9a5f4393-ed91-4095-d750-f99029c95d23"
      },
      "outputs": [
        {
          "output_type": "stream",
          "name": "stdout",
          "text": [
            "Cross-validation scores: [0.88021144 0.87876204 0.8744991  0.87867678 0.86998039]\n",
            "Average cross-validation score: 0.8764259527666468\n"
          ]
        }
      ],
      "source": [
        "from sklearn.model_selection import cross_val_score\n",
        "scores = cross_val_score(KNN, x, y, cv=5)\n",
        "print(\"Cross-validation scores:\", scores)\n",
        "print(\"Average cross-validation score:\", scores.mean())"
      ]
    },
    {
      "cell_type": "markdown",
      "metadata": {
        "id": "MK7R5QHszVir"
      },
      "source": [
        "## 3. Train a Naive Bayes Classifier"
      ]
    },
    {
      "cell_type": "code",
      "execution_count": 179,
      "metadata": {
        "id": "wh3rW-_SzV1a",
        "colab": {
          "base_uri": "https://localhost:8080/"
        },
        "outputId": "0c5bfa61-07a5-4429-fbb7-439e4526ba99"
      },
      "outputs": [
        {
          "output_type": "stream",
          "name": "stdout",
          "text": [
            "Score is 0.8849607820848017\n"
          ]
        }
      ],
      "source": [
        "from sklearn.naive_bayes import GaussianNB\n",
        "\n",
        "nbc = GaussianNB()\n",
        "nbc.fit(x_train,y_train)\n",
        "nbc_score = nbc.score(x_test,y_test)\n",
        "score_list[\"GaussianNBC\"] = nbc_score\n",
        "\n",
        "print(f\"Score is {nbc_score}\")"
      ]
    },
    {
      "cell_type": "markdown",
      "metadata": {
        "id": "r1s7wlRE0-6r"
      },
      "source": [
        "- Perform cross validation"
      ]
    },
    {
      "cell_type": "code",
      "execution_count": 180,
      "metadata": {
        "id": "Czj8xzAa0_Nt",
        "colab": {
          "base_uri": "https://localhost:8080/"
        },
        "outputId": "503bc198-bdec-44a9-fe32-430f6f2ad78a"
      },
      "outputs": [
        {
          "output_type": "stream",
          "name": "stdout",
          "text": [
            "Cross-validation scores: [0.88021144 0.87876204 0.8744991  0.87867678 0.86998039]\n",
            "Average cross-validation score: 0.8764259527666468\n"
          ]
        }
      ],
      "source": [
        "from sklearn.model_selection import cross_val_score\n",
        "scores = cross_val_score(KNN, x, y, cv=5)\n",
        "print(\"Cross-validation scores:\", scores)\n",
        "print(\"Average cross-validation score:\", scores.mean())"
      ]
    },
    {
      "cell_type": "markdown",
      "metadata": {
        "id": "GlMLKDF_rvUM"
      },
      "source": [
        "## 4. Train a SVM Classifier"
      ]
    },
    {
      "cell_type": "code",
      "execution_count": 181,
      "metadata": {
        "id": "0MJX8VBysFxR",
        "colab": {
          "base_uri": "https://localhost:8080/"
        },
        "outputId": "7eb784ea-564e-4ec4-bb53-05fa820bd888"
      },
      "outputs": [
        {
          "output_type": "stream",
          "name": "stdout",
          "text": [
            "Score is 0.8579061043537569\n"
          ]
        }
      ],
      "source": [
        "from sklearn.svm import SVC\n",
        "\n",
        "svc = SVC()\n",
        "svc.fit(x_train,y_train)\n",
        "svc_score = svc.score(x_test,y_test)\n",
        "score_list[\"SVC\"] = svc_score\n",
        "print(f\"Score is {svc_score}\")"
      ]
    },
    {
      "cell_type": "markdown",
      "metadata": {
        "id": "-wzEMe9J1DSe"
      },
      "source": [
        "- Perform cross validation"
      ]
    },
    {
      "cell_type": "code",
      "execution_count": 182,
      "metadata": {
        "id": "dPJlm2S-1Dqe",
        "colab": {
          "base_uri": "https://localhost:8080/"
        },
        "outputId": "1a2ba960-a07f-4f18-ca1d-7b72b9a43689"
      },
      "outputs": [
        {
          "output_type": "stream",
          "name": "stdout",
          "text": [
            "Cross-validation scores: [0.88021144 0.87876204 0.8744991  0.87867678 0.86998039]\n",
            "Average cross-validation score: 0.8764259527666468\n"
          ]
        }
      ],
      "source": [
        "from sklearn.model_selection import cross_val_score\n",
        "scores = cross_val_score(KNN, x, y, cv=5)\n",
        "print(\"Cross-validation scores:\", scores)\n",
        "print(\"Average cross-validation score:\", scores.mean())"
      ]
    },
    {
      "cell_type": "markdown",
      "metadata": {
        "id": "8n-ScOLqze60"
      },
      "source": [
        "## 5. Train a Decision Tree Classifier"
      ]
    },
    {
      "cell_type": "code",
      "execution_count": 183,
      "metadata": {
        "id": "fqLNJkoHzfL4",
        "colab": {
          "base_uri": "https://localhost:8080/"
        },
        "outputId": "28f63c50-f88b-47ad-b2b9-6cc6d96af401"
      },
      "outputs": [
        {
          "output_type": "stream",
          "name": "stdout",
          "text": [
            "Score is 0.9091167443446629\n"
          ]
        }
      ],
      "source": [
        "from sklearn.tree import DecisionTreeClassifier\n",
        "dtc = DecisionTreeClassifier(random_state=1)\n",
        "dtc.fit(x_train,y_train)\n",
        "\n",
        "dtc_score = dtc.score(x_test,y_test)\n",
        "score_list[\"DTC\"] = dtc_score\n",
        "print(f\"Score is {dtc_score}\")"
      ]
    },
    {
      "cell_type": "markdown",
      "metadata": {
        "id": "5dkFpQ2j1GUO"
      },
      "source": [
        "- Perform cross validation"
      ]
    },
    {
      "cell_type": "code",
      "execution_count": 184,
      "metadata": {
        "id": "hOXY4nc71Gk5",
        "colab": {
          "base_uri": "https://localhost:8080/"
        },
        "outputId": "a3ff3924-1549-41db-e7f3-ad4aaf31b7e3"
      },
      "outputs": [
        {
          "output_type": "stream",
          "name": "stdout",
          "text": [
            "Cross-validation scores: [0.88021144 0.87876204 0.8744991  0.87867678 0.86998039]\n",
            "Average cross-validation score: 0.8764259527666468\n"
          ]
        }
      ],
      "source": [
        "from sklearn.model_selection import cross_val_score\n",
        "scores = cross_val_score(KNN, x, y, cv=5)\n",
        "print(\"Cross-validation scores:\", scores)\n",
        "print(\"Average cross-validation score:\", scores.mean())"
      ]
    },
    {
      "cell_type": "markdown",
      "metadata": {
        "id": "MkJ6eVbNsBay"
      },
      "source": [
        "## 6. Train a Random Forest Classifier"
      ]
    },
    {
      "cell_type": "code",
      "execution_count": 185,
      "metadata": {
        "id": "w_LoDOYHsGo2",
        "colab": {
          "base_uri": "https://localhost:8080/"
        },
        "outputId": "488c33c2-f5de-405d-e325-cddc445932ab"
      },
      "outputs": [
        {
          "output_type": "stream",
          "name": "stdout",
          "text": [
            "Score is 0.9497555984994884\n"
          ]
        }
      ],
      "source": [
        "from sklearn.ensemble import RandomForestClassifier\n",
        "\n",
        "rfc = RandomForestClassifier(n_estimators=50,random_state=1)\n",
        "rfc.fit(x_train,y_train)\n",
        "rfc_score = rfc.score(x_test,y_test)\n",
        "score_list[\"RFC\"]=rfc_score\n",
        "\n",
        "print(f\"Score is {rfc_score}\")"
      ]
    },
    {
      "cell_type": "markdown",
      "metadata": {
        "id": "3orhk-Vf0Jg-"
      },
      "source": [
        "## 7. Compare all the performance of all classification models"
      ]
    },
    {
      "cell_type": "code",
      "execution_count": 186,
      "metadata": {
        "id": "r5FUkgck0VY8",
        "colab": {
          "base_uri": "https://localhost:8080/"
        },
        "outputId": "97e50418-a59e-4c94-e030-67212087e160"
      },
      "outputs": [
        {
          "output_type": "stream",
          "name": "stdout",
          "text": [
            "KNN Classifier: 0.8828009548709788\n",
            "Logistic Regression: 0.8821757417301352\n",
            "GaussianNBC: 0.8849607820848017\n",
            "SVC: 0.8579061043537569\n",
            "DTC: 0.9091167443446629\n",
            "RFC: 0.9497555984994884\n"
          ]
        }
      ],
      "source": [
        "\n",
        "for model_name, score in score_list.items():\n",
        "  print(f\"{model_name}: {score}\")"
      ]
    },
    {
      "cell_type": "markdown",
      "metadata": {
        "id": "a6UAAMyepmHi"
      },
      "source": [
        "## 9. Generate Submission File\n",
        "\n",
        "Choose the model that has the best performance to generate a submission file."
      ]
    },
    {
      "cell_type": "code",
      "source": [
        "dt['loan_grade'] = dt['loan_grade'].map(grade_mapping)\n",
        "dt['person_home_ownership'] = dt['person_home_ownership'].map(ownership_mapping)\n",
        "dt['cb_person_default_on_file'] = dt['cb_person_default_on_file'].map(default_mapping)\n",
        "dt['loan_intent'] = dt['loan_intent'].map(intent_mapping)\n",
        "\n",
        "model = DecisionTreeClassifier(random_state=1)\n",
        "X = df.drop(\"loan_status\",axis=1)\n",
        "y = df[\"loan_status\"]\n",
        "model.fit(X, y)"
      ],
      "metadata": {
        "id": "YCUeGnFK9nTC",
        "colab": {
          "base_uri": "https://localhost:8080/",
          "height": 80
        },
        "outputId": "f1c10940-9ff4-46af-c494-31e577d1d84d"
      },
      "execution_count": 187,
      "outputs": [
        {
          "output_type": "execute_result",
          "data": {
            "text/plain": [
              "DecisionTreeClassifier(random_state=1)"
            ],
            "text/html": [
              "<style>#sk-container-id-6 {\n",
              "  /* Definition of color scheme common for light and dark mode */\n",
              "  --sklearn-color-text: black;\n",
              "  --sklearn-color-line: gray;\n",
              "  /* Definition of color scheme for unfitted estimators */\n",
              "  --sklearn-color-unfitted-level-0: #fff5e6;\n",
              "  --sklearn-color-unfitted-level-1: #f6e4d2;\n",
              "  --sklearn-color-unfitted-level-2: #ffe0b3;\n",
              "  --sklearn-color-unfitted-level-3: chocolate;\n",
              "  /* Definition of color scheme for fitted estimators */\n",
              "  --sklearn-color-fitted-level-0: #f0f8ff;\n",
              "  --sklearn-color-fitted-level-1: #d4ebff;\n",
              "  --sklearn-color-fitted-level-2: #b3dbfd;\n",
              "  --sklearn-color-fitted-level-3: cornflowerblue;\n",
              "\n",
              "  /* Specific color for light theme */\n",
              "  --sklearn-color-text-on-default-background: var(--sg-text-color, var(--theme-code-foreground, var(--jp-content-font-color1, black)));\n",
              "  --sklearn-color-background: var(--sg-background-color, var(--theme-background, var(--jp-layout-color0, white)));\n",
              "  --sklearn-color-border-box: var(--sg-text-color, var(--theme-code-foreground, var(--jp-content-font-color1, black)));\n",
              "  --sklearn-color-icon: #696969;\n",
              "\n",
              "  @media (prefers-color-scheme: dark) {\n",
              "    /* Redefinition of color scheme for dark theme */\n",
              "    --sklearn-color-text-on-default-background: var(--sg-text-color, var(--theme-code-foreground, var(--jp-content-font-color1, white)));\n",
              "    --sklearn-color-background: var(--sg-background-color, var(--theme-background, var(--jp-layout-color0, #111)));\n",
              "    --sklearn-color-border-box: var(--sg-text-color, var(--theme-code-foreground, var(--jp-content-font-color1, white)));\n",
              "    --sklearn-color-icon: #878787;\n",
              "  }\n",
              "}\n",
              "\n",
              "#sk-container-id-6 {\n",
              "  color: var(--sklearn-color-text);\n",
              "}\n",
              "\n",
              "#sk-container-id-6 pre {\n",
              "  padding: 0;\n",
              "}\n",
              "\n",
              "#sk-container-id-6 input.sk-hidden--visually {\n",
              "  border: 0;\n",
              "  clip: rect(1px 1px 1px 1px);\n",
              "  clip: rect(1px, 1px, 1px, 1px);\n",
              "  height: 1px;\n",
              "  margin: -1px;\n",
              "  overflow: hidden;\n",
              "  padding: 0;\n",
              "  position: absolute;\n",
              "  width: 1px;\n",
              "}\n",
              "\n",
              "#sk-container-id-6 div.sk-dashed-wrapped {\n",
              "  border: 1px dashed var(--sklearn-color-line);\n",
              "  margin: 0 0.4em 0.5em 0.4em;\n",
              "  box-sizing: border-box;\n",
              "  padding-bottom: 0.4em;\n",
              "  background-color: var(--sklearn-color-background);\n",
              "}\n",
              "\n",
              "#sk-container-id-6 div.sk-container {\n",
              "  /* jupyter's `normalize.less` sets `[hidden] { display: none; }`\n",
              "     but bootstrap.min.css set `[hidden] { display: none !important; }`\n",
              "     so we also need the `!important` here to be able to override the\n",
              "     default hidden behavior on the sphinx rendered scikit-learn.org.\n",
              "     See: https://github.com/scikit-learn/scikit-learn/issues/21755 */\n",
              "  display: inline-block !important;\n",
              "  position: relative;\n",
              "}\n",
              "\n",
              "#sk-container-id-6 div.sk-text-repr-fallback {\n",
              "  display: none;\n",
              "}\n",
              "\n",
              "div.sk-parallel-item,\n",
              "div.sk-serial,\n",
              "div.sk-item {\n",
              "  /* draw centered vertical line to link estimators */\n",
              "  background-image: linear-gradient(var(--sklearn-color-text-on-default-background), var(--sklearn-color-text-on-default-background));\n",
              "  background-size: 2px 100%;\n",
              "  background-repeat: no-repeat;\n",
              "  background-position: center center;\n",
              "}\n",
              "\n",
              "/* Parallel-specific style estimator block */\n",
              "\n",
              "#sk-container-id-6 div.sk-parallel-item::after {\n",
              "  content: \"\";\n",
              "  width: 100%;\n",
              "  border-bottom: 2px solid var(--sklearn-color-text-on-default-background);\n",
              "  flex-grow: 1;\n",
              "}\n",
              "\n",
              "#sk-container-id-6 div.sk-parallel {\n",
              "  display: flex;\n",
              "  align-items: stretch;\n",
              "  justify-content: center;\n",
              "  background-color: var(--sklearn-color-background);\n",
              "  position: relative;\n",
              "}\n",
              "\n",
              "#sk-container-id-6 div.sk-parallel-item {\n",
              "  display: flex;\n",
              "  flex-direction: column;\n",
              "}\n",
              "\n",
              "#sk-container-id-6 div.sk-parallel-item:first-child::after {\n",
              "  align-self: flex-end;\n",
              "  width: 50%;\n",
              "}\n",
              "\n",
              "#sk-container-id-6 div.sk-parallel-item:last-child::after {\n",
              "  align-self: flex-start;\n",
              "  width: 50%;\n",
              "}\n",
              "\n",
              "#sk-container-id-6 div.sk-parallel-item:only-child::after {\n",
              "  width: 0;\n",
              "}\n",
              "\n",
              "/* Serial-specific style estimator block */\n",
              "\n",
              "#sk-container-id-6 div.sk-serial {\n",
              "  display: flex;\n",
              "  flex-direction: column;\n",
              "  align-items: center;\n",
              "  background-color: var(--sklearn-color-background);\n",
              "  padding-right: 1em;\n",
              "  padding-left: 1em;\n",
              "}\n",
              "\n",
              "\n",
              "/* Toggleable style: style used for estimator/Pipeline/ColumnTransformer box that is\n",
              "clickable and can be expanded/collapsed.\n",
              "- Pipeline and ColumnTransformer use this feature and define the default style\n",
              "- Estimators will overwrite some part of the style using the `sk-estimator` class\n",
              "*/\n",
              "\n",
              "/* Pipeline and ColumnTransformer style (default) */\n",
              "\n",
              "#sk-container-id-6 div.sk-toggleable {\n",
              "  /* Default theme specific background. It is overwritten whether we have a\n",
              "  specific estimator or a Pipeline/ColumnTransformer */\n",
              "  background-color: var(--sklearn-color-background);\n",
              "}\n",
              "\n",
              "/* Toggleable label */\n",
              "#sk-container-id-6 label.sk-toggleable__label {\n",
              "  cursor: pointer;\n",
              "  display: block;\n",
              "  width: 100%;\n",
              "  margin-bottom: 0;\n",
              "  padding: 0.5em;\n",
              "  box-sizing: border-box;\n",
              "  text-align: center;\n",
              "}\n",
              "\n",
              "#sk-container-id-6 label.sk-toggleable__label-arrow:before {\n",
              "  /* Arrow on the left of the label */\n",
              "  content: \"▸\";\n",
              "  float: left;\n",
              "  margin-right: 0.25em;\n",
              "  color: var(--sklearn-color-icon);\n",
              "}\n",
              "\n",
              "#sk-container-id-6 label.sk-toggleable__label-arrow:hover:before {\n",
              "  color: var(--sklearn-color-text);\n",
              "}\n",
              "\n",
              "/* Toggleable content - dropdown */\n",
              "\n",
              "#sk-container-id-6 div.sk-toggleable__content {\n",
              "  max-height: 0;\n",
              "  max-width: 0;\n",
              "  overflow: hidden;\n",
              "  text-align: left;\n",
              "  /* unfitted */\n",
              "  background-color: var(--sklearn-color-unfitted-level-0);\n",
              "}\n",
              "\n",
              "#sk-container-id-6 div.sk-toggleable__content.fitted {\n",
              "  /* fitted */\n",
              "  background-color: var(--sklearn-color-fitted-level-0);\n",
              "}\n",
              "\n",
              "#sk-container-id-6 div.sk-toggleable__content pre {\n",
              "  margin: 0.2em;\n",
              "  border-radius: 0.25em;\n",
              "  color: var(--sklearn-color-text);\n",
              "  /* unfitted */\n",
              "  background-color: var(--sklearn-color-unfitted-level-0);\n",
              "}\n",
              "\n",
              "#sk-container-id-6 div.sk-toggleable__content.fitted pre {\n",
              "  /* unfitted */\n",
              "  background-color: var(--sklearn-color-fitted-level-0);\n",
              "}\n",
              "\n",
              "#sk-container-id-6 input.sk-toggleable__control:checked~div.sk-toggleable__content {\n",
              "  /* Expand drop-down */\n",
              "  max-height: 200px;\n",
              "  max-width: 100%;\n",
              "  overflow: auto;\n",
              "}\n",
              "\n",
              "#sk-container-id-6 input.sk-toggleable__control:checked~label.sk-toggleable__label-arrow:before {\n",
              "  content: \"▾\";\n",
              "}\n",
              "\n",
              "/* Pipeline/ColumnTransformer-specific style */\n",
              "\n",
              "#sk-container-id-6 div.sk-label input.sk-toggleable__control:checked~label.sk-toggleable__label {\n",
              "  color: var(--sklearn-color-text);\n",
              "  background-color: var(--sklearn-color-unfitted-level-2);\n",
              "}\n",
              "\n",
              "#sk-container-id-6 div.sk-label.fitted input.sk-toggleable__control:checked~label.sk-toggleable__label {\n",
              "  background-color: var(--sklearn-color-fitted-level-2);\n",
              "}\n",
              "\n",
              "/* Estimator-specific style */\n",
              "\n",
              "/* Colorize estimator box */\n",
              "#sk-container-id-6 div.sk-estimator input.sk-toggleable__control:checked~label.sk-toggleable__label {\n",
              "  /* unfitted */\n",
              "  background-color: var(--sklearn-color-unfitted-level-2);\n",
              "}\n",
              "\n",
              "#sk-container-id-6 div.sk-estimator.fitted input.sk-toggleable__control:checked~label.sk-toggleable__label {\n",
              "  /* fitted */\n",
              "  background-color: var(--sklearn-color-fitted-level-2);\n",
              "}\n",
              "\n",
              "#sk-container-id-6 div.sk-label label.sk-toggleable__label,\n",
              "#sk-container-id-6 div.sk-label label {\n",
              "  /* The background is the default theme color */\n",
              "  color: var(--sklearn-color-text-on-default-background);\n",
              "}\n",
              "\n",
              "/* On hover, darken the color of the background */\n",
              "#sk-container-id-6 div.sk-label:hover label.sk-toggleable__label {\n",
              "  color: var(--sklearn-color-text);\n",
              "  background-color: var(--sklearn-color-unfitted-level-2);\n",
              "}\n",
              "\n",
              "/* Label box, darken color on hover, fitted */\n",
              "#sk-container-id-6 div.sk-label.fitted:hover label.sk-toggleable__label.fitted {\n",
              "  color: var(--sklearn-color-text);\n",
              "  background-color: var(--sklearn-color-fitted-level-2);\n",
              "}\n",
              "\n",
              "/* Estimator label */\n",
              "\n",
              "#sk-container-id-6 div.sk-label label {\n",
              "  font-family: monospace;\n",
              "  font-weight: bold;\n",
              "  display: inline-block;\n",
              "  line-height: 1.2em;\n",
              "}\n",
              "\n",
              "#sk-container-id-6 div.sk-label-container {\n",
              "  text-align: center;\n",
              "}\n",
              "\n",
              "/* Estimator-specific */\n",
              "#sk-container-id-6 div.sk-estimator {\n",
              "  font-family: monospace;\n",
              "  border: 1px dotted var(--sklearn-color-border-box);\n",
              "  border-radius: 0.25em;\n",
              "  box-sizing: border-box;\n",
              "  margin-bottom: 0.5em;\n",
              "  /* unfitted */\n",
              "  background-color: var(--sklearn-color-unfitted-level-0);\n",
              "}\n",
              "\n",
              "#sk-container-id-6 div.sk-estimator.fitted {\n",
              "  /* fitted */\n",
              "  background-color: var(--sklearn-color-fitted-level-0);\n",
              "}\n",
              "\n",
              "/* on hover */\n",
              "#sk-container-id-6 div.sk-estimator:hover {\n",
              "  /* unfitted */\n",
              "  background-color: var(--sklearn-color-unfitted-level-2);\n",
              "}\n",
              "\n",
              "#sk-container-id-6 div.sk-estimator.fitted:hover {\n",
              "  /* fitted */\n",
              "  background-color: var(--sklearn-color-fitted-level-2);\n",
              "}\n",
              "\n",
              "/* Specification for estimator info (e.g. \"i\" and \"?\") */\n",
              "\n",
              "/* Common style for \"i\" and \"?\" */\n",
              "\n",
              ".sk-estimator-doc-link,\n",
              "a:link.sk-estimator-doc-link,\n",
              "a:visited.sk-estimator-doc-link {\n",
              "  float: right;\n",
              "  font-size: smaller;\n",
              "  line-height: 1em;\n",
              "  font-family: monospace;\n",
              "  background-color: var(--sklearn-color-background);\n",
              "  border-radius: 1em;\n",
              "  height: 1em;\n",
              "  width: 1em;\n",
              "  text-decoration: none !important;\n",
              "  margin-left: 1ex;\n",
              "  /* unfitted */\n",
              "  border: var(--sklearn-color-unfitted-level-1) 1pt solid;\n",
              "  color: var(--sklearn-color-unfitted-level-1);\n",
              "}\n",
              "\n",
              ".sk-estimator-doc-link.fitted,\n",
              "a:link.sk-estimator-doc-link.fitted,\n",
              "a:visited.sk-estimator-doc-link.fitted {\n",
              "  /* fitted */\n",
              "  border: var(--sklearn-color-fitted-level-1) 1pt solid;\n",
              "  color: var(--sklearn-color-fitted-level-1);\n",
              "}\n",
              "\n",
              "/* On hover */\n",
              "div.sk-estimator:hover .sk-estimator-doc-link:hover,\n",
              ".sk-estimator-doc-link:hover,\n",
              "div.sk-label-container:hover .sk-estimator-doc-link:hover,\n",
              ".sk-estimator-doc-link:hover {\n",
              "  /* unfitted */\n",
              "  background-color: var(--sklearn-color-unfitted-level-3);\n",
              "  color: var(--sklearn-color-background);\n",
              "  text-decoration: none;\n",
              "}\n",
              "\n",
              "div.sk-estimator.fitted:hover .sk-estimator-doc-link.fitted:hover,\n",
              ".sk-estimator-doc-link.fitted:hover,\n",
              "div.sk-label-container:hover .sk-estimator-doc-link.fitted:hover,\n",
              ".sk-estimator-doc-link.fitted:hover {\n",
              "  /* fitted */\n",
              "  background-color: var(--sklearn-color-fitted-level-3);\n",
              "  color: var(--sklearn-color-background);\n",
              "  text-decoration: none;\n",
              "}\n",
              "\n",
              "/* Span, style for the box shown on hovering the info icon */\n",
              ".sk-estimator-doc-link span {\n",
              "  display: none;\n",
              "  z-index: 9999;\n",
              "  position: relative;\n",
              "  font-weight: normal;\n",
              "  right: .2ex;\n",
              "  padding: .5ex;\n",
              "  margin: .5ex;\n",
              "  width: min-content;\n",
              "  min-width: 20ex;\n",
              "  max-width: 50ex;\n",
              "  color: var(--sklearn-color-text);\n",
              "  box-shadow: 2pt 2pt 4pt #999;\n",
              "  /* unfitted */\n",
              "  background: var(--sklearn-color-unfitted-level-0);\n",
              "  border: .5pt solid var(--sklearn-color-unfitted-level-3);\n",
              "}\n",
              "\n",
              ".sk-estimator-doc-link.fitted span {\n",
              "  /* fitted */\n",
              "  background: var(--sklearn-color-fitted-level-0);\n",
              "  border: var(--sklearn-color-fitted-level-3);\n",
              "}\n",
              "\n",
              ".sk-estimator-doc-link:hover span {\n",
              "  display: block;\n",
              "}\n",
              "\n",
              "/* \"?\"-specific style due to the `<a>` HTML tag */\n",
              "\n",
              "#sk-container-id-6 a.estimator_doc_link {\n",
              "  float: right;\n",
              "  font-size: 1rem;\n",
              "  line-height: 1em;\n",
              "  font-family: monospace;\n",
              "  background-color: var(--sklearn-color-background);\n",
              "  border-radius: 1rem;\n",
              "  height: 1rem;\n",
              "  width: 1rem;\n",
              "  text-decoration: none;\n",
              "  /* unfitted */\n",
              "  color: var(--sklearn-color-unfitted-level-1);\n",
              "  border: var(--sklearn-color-unfitted-level-1) 1pt solid;\n",
              "}\n",
              "\n",
              "#sk-container-id-6 a.estimator_doc_link.fitted {\n",
              "  /* fitted */\n",
              "  border: var(--sklearn-color-fitted-level-1) 1pt solid;\n",
              "  color: var(--sklearn-color-fitted-level-1);\n",
              "}\n",
              "\n",
              "/* On hover */\n",
              "#sk-container-id-6 a.estimator_doc_link:hover {\n",
              "  /* unfitted */\n",
              "  background-color: var(--sklearn-color-unfitted-level-3);\n",
              "  color: var(--sklearn-color-background);\n",
              "  text-decoration: none;\n",
              "}\n",
              "\n",
              "#sk-container-id-6 a.estimator_doc_link.fitted:hover {\n",
              "  /* fitted */\n",
              "  background-color: var(--sklearn-color-fitted-level-3);\n",
              "}\n",
              "</style><div id=\"sk-container-id-6\" class=\"sk-top-container\"><div class=\"sk-text-repr-fallback\"><pre>DecisionTreeClassifier(random_state=1)</pre><b>In a Jupyter environment, please rerun this cell to show the HTML representation or trust the notebook. <br />On GitHub, the HTML representation is unable to render, please try loading this page with nbviewer.org.</b></div><div class=\"sk-container\" hidden><div class=\"sk-item\"><div class=\"sk-estimator fitted sk-toggleable\"><input class=\"sk-toggleable__control sk-hidden--visually\" id=\"sk-estimator-id-6\" type=\"checkbox\" checked><label for=\"sk-estimator-id-6\" class=\"sk-toggleable__label fitted sk-toggleable__label-arrow fitted\">&nbsp;&nbsp;DecisionTreeClassifier<a class=\"sk-estimator-doc-link fitted\" rel=\"noreferrer\" target=\"_blank\" href=\"https://scikit-learn.org/1.5/modules/generated/sklearn.tree.DecisionTreeClassifier.html\">?<span>Documentation for DecisionTreeClassifier</span></a><span class=\"sk-estimator-doc-link fitted\">i<span>Fitted</span></span></label><div class=\"sk-toggleable__content fitted\"><pre>DecisionTreeClassifier(random_state=1)</pre></div> </div></div></div></div>"
            ]
          },
          "metadata": {},
          "execution_count": 187
        }
      ]
    },
    {
      "cell_type": "code",
      "execution_count": 188,
      "metadata": {
        "id": "HrelEEFJpjzI",
        "colab": {
          "base_uri": "https://localhost:8080/"
        },
        "outputId": "31241f93-1dd3-491b-91bf-c67f6ff90211"
      },
      "outputs": [
        {
          "output_type": "stream",
          "name": "stdout",
          "text": [
            "Submission file created: submission_file.csv\n"
          ]
        }
      ],
      "source": [
        "id = sf.pop('id')\n",
        "y_pred = model.predict(dt)\n",
        "\n",
        "# Create a submission DataFrame\n",
        "submission_df = pd.DataFrame({\n",
        "    'id': id,\n",
        "    'loan_status': y_pred\n",
        "})\n",
        "\n",
        "# Save the submission DataFrame to a CSV file\n",
        "submission_df.to_csv('submission_file.csv', index=False)\n",
        "print(\"Submission file created: submission_file.csv\")"
      ]
    }
  ],
  "metadata": {
    "colab": {
      "collapsed_sections": [
        "eCNNEXIhftVN",
        "mLFiGySNftVP",
        "ntGpbsBg8hft"
      ],
      "provenance": [],
      "include_colab_link": true
    },
    "kernelspec": {
      "display_name": "Python 3",
      "name": "python3"
    },
    "language_info": {
      "name": "python",
      "version": "3.12.4"
    }
  },
  "nbformat": 4,
  "nbformat_minor": 0
}